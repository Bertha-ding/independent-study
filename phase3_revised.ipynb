{
  "nbformat": 4,
  "nbformat_minor": 0,
  "metadata": {
    "colab": {
      "name": "““phase3.ipynb”的副本”的副本",
      "provenance": [],
      "collapsed_sections": [],
      "authorship_tag": "ABX9TyM18HGoCURZEmnfA8dG1Bm8",
      "include_colab_link": true
    },
    "kernelspec": {
      "name": "python3",
      "display_name": "Python 3"
    },
    "language_info": {
      "name": "python"
    }
  },
  "cells": [
    {
      "cell_type": "markdown",
      "metadata": {
        "id": "view-in-github",
        "colab_type": "text"
      },
      "source": [
        "<a href=\"https://colab.research.google.com/github/Bertha-ding/independent-study/blob/main/phase3_revised.ipynb\" target=\"_parent\"><img src=\"https://colab.research.google.com/assets/colab-badge.svg\" alt=\"Open In Colab\"/></a>"
      ]
    },
    {
      "cell_type": "code",
      "metadata": {
        "id": "o6JfcBIdkOUR"
      },
      "source": [
        "import matplotlib.pyplot as plt\n",
        "import numpy as np\n",
        "import scipy.optimize as so\n",
        "import scipy.stats as ss\n",
        "\n",
        "'''=========\n",
        "option class init\n",
        "=========='''\n",
        "class VanillaOption:\n",
        "    def __init__(\n",
        "        self,\n",
        "        otype = 1, # 1: 'call'\n",
        "                  # -1: 'put'\n",
        "        strike = 110.,\n",
        "        maturity = 1.,\n",
        "        market_price = 10.):\n",
        "      self.otype = otype\n",
        "      self.strike = strike\n",
        "      self.maturity = maturity\n",
        "      self.market_price = market_price #this will be used for calibration\n",
        "      \n",
        "        \n",
        "    def payoff(self, s): #s: excercise price\n",
        "      otype = self.otype\n",
        "      k = self.strike\n",
        "      maturity = self.maturity\n",
        "      return max([0, (s - k)*otype])\n",
        "'''============\n",
        "Gbm class\n",
        "============='''\n",
        "\n",
        "class Gbm:\n",
        "    def __init__(self,\n",
        "                 init_state = 100.,\n",
        "                 drift_ratio = .0475,\n",
        "                 vol_ratio = .2,\n",
        "                ):\n",
        "        self.init_state = init_state\n",
        "        self.drift_ratio = drift_ratio\n",
        "        self.vol_ratio = vol_ratio\n",
        "\n",
        "\n",
        "'''========\n",
        "Black-Scholes-Merton formula. \n",
        "=========='''\n",
        "\n",
        "def bsm_price(self, vanilla_option):\n",
        "    s0 = self.init_state\n",
        "    sigma = self.vol_ratio\n",
        "    r = self.drift_ratio\n",
        "    \n",
        "    otype = vanilla_option.otype\n",
        "    k = vanilla_option.strike\n",
        "    maturity = vanilla_option.maturity\n",
        "    \n",
        "    d1 = (np.log(s0 / k) + (r + 0.5 * sigma ** 2) \n",
        "          * maturity) / (sigma * np.sqrt(maturity))\n",
        "    d2 = d1 - sigma * np.sqrt(maturity)\n",
        "    \n",
        "    return (otype * s0 * ss.norm.cdf(otype * d1) #line break needs parenthesis\n",
        "            - otype * np.exp(-r * maturity) * k * ss.norm.cdf(otype * d2))\n",
        "\n",
        "Gbm.bsm_price = bsm_price\n"
      ],
      "execution_count": 27,
      "outputs": []
    },
    {
      "cell_type": "code",
      "metadata": {
        "id": "TM9_TL5zp1y2",
        "colab": {
          "base_uri": "https://localhost:8080/"
        },
        "outputId": "29d91a4e-19de-4e64-97e7-93e0c38e8a7b"
      },
      "source": [
        "%cd~\n",
        "\n",
        "!git clone https://github.com/Bertha-ding/20MA573-yuning-ding.git \n",
        "pass\n",
        "\n",
        "%cd 20MA573-yuning-ding/src/\n",
        "%ls"
      ],
      "execution_count": 23,
      "outputs": [
        {
          "output_type": "stream",
          "text": [
            "/root\n",
            "fatal: destination path '20MA573-yuning-ding' already exists and is not an empty directory.\n",
            "/root/20MA573-yuning-ding/src\n",
            "20optiondata2.dat  hw1_random_walk.ipynb  prj02.ipynb  \u001b[0m\u001b[01;34m__pycache__\u001b[0m/\n",
            "bsm.py             prj01.ipynb            prj03.ipynb  Untitled0.ipynb\n"
          ],
          "name": "stdout"
        }
      ]
    },
    {
      "cell_type": "code",
      "metadata": {
        "id": "X4DgvOFnp2ia",
        "colab": {
          "base_uri": "https://localhost:8080/"
        },
        "outputId": "f5846642-9287-40d1-89fe-58695f3d47a9"
      },
      "source": [
        "from bsm import *\n",
        "import scipy.optimize as so\n",
        "import numpy as np\n",
        "import scipy.stats as ss\n",
        "\n",
        "#Read four-column data\n",
        "#columns are otype, maturity, strike, option_price\n",
        "np_option_data1 = np.loadtxt('20optiondata2.dat', comments='#', delimiter=',')\n",
        "\n",
        "print('>>>otype,>>>>>>> maturity, >>strike, >>>>>>option_price')\n",
        "print(np_option_data1)"
      ],
      "execution_count": 24,
      "outputs": [
        {
          "output_type": "stream",
          "text": [
            ">>>otype,>>>>>>> maturity, >>strike, >>>>>>option_price\n",
            "[[  1.           0.16666667  97.           5.32705461]\n",
            " [  1.           0.16666667  99.           3.86224255]\n",
            " [  1.           0.16666667 101.           2.7204371 ]\n",
            " [  1.           0.16666667 103.           2.1202793 ]\n",
            " [  1.           0.41666667  97.           7.23756307]\n",
            " [  1.           0.41666667  99.           5.95053461]\n",
            " [  1.           0.41666667 101.           5.2640122 ]\n",
            " [  1.           0.41666667 103.           4.97493422]]\n"
          ],
          "name": "stdout"
        }
      ]
    },
    {
      "cell_type": "code",
      "metadata": {
        "id": "6GSgl2Wop6_x"
      },
      "source": [
        "gbm1 = Gbm(\n",
        "    init_state = 100., \n",
        "    drift_ratio = .04,\n",
        "    vol_ratio = .2)"
      ],
      "execution_count": 28,
      "outputs": []
    },
    {
      "cell_type": "code",
      "metadata": {
        "id": "yXQd9qkKp-SW"
      },
      "source": [
        "'''================\n",
        "define an error function\n",
        "===================='''\n",
        "def error_function(vol, gbm, option_list):\n",
        "  gbm.vol_ratio = vol\n",
        "  err = 0\n",
        "  for i in range(len(option_list)):\n",
        "    err = (err + abs((option_list[i]).market_price - gbm.bsm_price(option_list[i]))**2)/len(option_list)   \n",
        "  return err\n",
        "\n",
        "  \n"
      ],
      "execution_count": 5,
      "outputs": []
    },
    {
      "cell_type": "code",
      "metadata": {
        "id": "3qdGj9HITtEo"
      },
      "source": [
        "def dx1(vol,init_state,drift_ratio, gbm, option_list):\n",
        "  gbm.vol_ratio = vol\n",
        "  gbm.init_state = init_state\n",
        "  gbm.drift_ratio= drift_ratio\n",
        "  for i in range(len(option_list)):\n",
        "    gradient= abs((option_list[i]).market_price - gbm.bsm_price(option_list[i]))/len(option_list) \n",
        "    gradient=(gbm.bsm_price(option_list[i])-(option_list[i]).market_price)*100*(np.log(100/90) + (0.04 + 0.5 *vol ** 2) \n",
        "          * 2/12) / (vol * np.sqrt(2/12))*np.sqrt(2/12)\n",
        "  return gradient\n",
        "\n",
        "def gradient(vol,init_state,drift_ratio, gbm, option_list):\n",
        "  #gradient_w1:estimate mean gradient over all point for w1\n",
        "  #1/N*sum of derivative of w1\n",
        "  N=len(option_list)\n",
        "  total=0\n",
        "  for i in range(len(option_list)):\n",
        "    total +=dx1(vol,init_state,drift_ratio, gbm, option_list)\n",
        "  gradient = 2*total/N\n",
        "  return gradient\n"
      ],
      "execution_count": 101,
      "outputs": []
    },
    {
      "cell_type": "code",
      "metadata": {
        "id": "znQ_drX_4pk3"
      },
      "source": [
        "def gradient_descent(vol,init_state,drift_ratio,gbm,option_list,alpha,precision):\n",
        "  vol_list = []\n",
        "  while abs(vol - 0.2) > precision:\n",
        "      grad = gradient(vol,init_state,drift_ratio,gbm,option_list)\n",
        "      vol = vol - alpha*grad\n",
        "      vol_list.append(vol_list)\n",
        "  print(\"Local minimum occurs at:\", vol)\n",
        "  print(\"Number of steps:\", len(vol_list))"
      ],
      "execution_count": 106,
      "outputs": []
    },
    {
      "cell_type": "code",
      "metadata": {
        "id": "fvJ0PMHF5yt5"
      },
      "source": [
        "def implied_volatility(gbm, init_state,drift_ratio,option_list):\n",
        "  init_vol = .3 #initial guess\n",
        "  return gradient_descent(init_vol,init_state,drift_ratio,gbm,option_list,alpha=0.001,precision=0.001)"
      ],
      "execution_count": 114,
      "outputs": []
    },
    {
      "cell_type": "code",
      "metadata": {
        "id": "9tbVykze53FJ"
      },
      "source": [
        "filter1 = np_option_data1[np_option_data1[:,1] == 2/12]\n",
        "num_row = filter1.shape[0]\n",
        "option_list = []\n",
        "\n",
        "for i in range(num_row):\n",
        "  option1 = VanillaOption(\n",
        "      otype = filter1[i,0],\n",
        "      strike = filter1[i,2],\n",
        "      maturity = filter1[i,1],\n",
        "      market_price = filter1[i,3]\n",
        "  )   \n",
        "  option_list.append(option1)"
      ],
      "execution_count": 112,
      "outputs": []
    },
    {
      "cell_type": "code",
      "metadata": {
        "colab": {
          "base_uri": "https://localhost:8080/"
        },
        "id": "wwT4lfyo6CNf",
        "outputId": "39428ad3-6a84-474f-e46f-d6bd067abc85"
      },
      "source": [
        "implied_volatility(gbm1, 100,0.04,option_list)"
      ],
      "execution_count": 115,
      "outputs": [
        {
          "output_type": "stream",
          "text": [
            "Local minimum occurs at: 0.20023401019107984\n",
            "Number of steps: 12\n"
          ],
          "name": "stdout"
        }
      ]
    }
  ]
}