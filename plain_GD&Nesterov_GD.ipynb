{
  "nbformat": 4,
  "nbformat_minor": 0,
  "metadata": {
    "colab": {
      "name": "Untitled0.ipynb",
      "provenance": [],
      "collapsed_sections": [],
      "authorship_tag": "ABX9TyNfsRSrEgYcdN6ENMKa8rkR",
      "include_colab_link": true
    },
    "kernelspec": {
      "name": "python3",
      "display_name": "Python 3"
    }
  },
  "cells": [
    {
      "cell_type": "markdown",
      "metadata": {
        "id": "view-in-github",
        "colab_type": "text"
      },
      "source": [
        "<a href=\"https://colab.research.google.com/github/Bertha-ding/independent-study/blob/main/plain%20GD%20%2B%20Nesterov%20GD.ipynb\" target=\"_parent\"><img src=\"https://colab.research.google.com/assets/colab-badge.svg\" alt=\"Open In Colab\"/></a>"
      ]
    },
    {
      "cell_type": "markdown",
      "metadata": {
        "id": "SU65F42CwR9p"
      },
      "source": [
        "Gradient descent"
      ]
    },
    {
      "cell_type": "code",
      "metadata": {
        "id": "wv3bksSmXErP"
      },
      "source": [
        "#f(x)= w1+w2*x \n",
        "#we're trying to fit w1&w2 we can on the dataset\n",
        "#{x1,x2,...,xn} {y1,y2,...,yn}\n",
        "#we are using squared error and find minimal SSE\n",
        "#we need to minimize: sum{i=1:N}(yi^-yi)^2, which means sum{i=1:N}(w1+w2*xi-yi)^2\n",
        "\n",
        "#the gradient is \n",
        "#df(x)/d(w1)=(1/N)*(sum{1:N}2*(w1+w2*xi-yi))\n",
        "#df(x)/d(w2)=(1/N)*(sum{1:N}2*xi*(w1+w2*xi-yi))"
      ],
      "execution_count": null,
      "outputs": []
    },
    {
      "cell_type": "markdown",
      "metadata": {
        "id": "4yNxuwOdynuA"
      },
      "source": [
        "pseudocode:\n",
        "Initialize the parameter w randomly and select a learning rate(a).\n",
        "> -Calculating the gradient using all data\n",
        "\n",
        "> -Iteration: w:=w-a*gradient\n",
        "\n"
      ]
    },
    {
      "cell_type": "code",
      "metadata": {
        "id": "AjIxj5UgqanL"
      },
      "source": [
        "import numpy as np\n",
        "\n",
        "def f(w1,w2,x):\n",
        "  # f:function we are trying to estimate the parameters\n",
        "  y_hat=w1+w2*x\n",
        "  return y_hat\n",
        "  \n"
      ],
      "execution_count": null,
      "outputs": []
    },
    {
      "cell_type": "code",
      "metadata": {
        "id": "ozVn9w7Ruzv5"
      },
      "source": [
        "def dx_w1(w1,w2,x,y):\n",
        "  #dx_w1: partial derivative of w1 for function f\n",
        "  y_hat=f(w1,w2,x)\n",
        "  gradient = 2*(y_hat-y)\n",
        "  return gradient\n",
        "\n",
        "def dx_w2(w1,w2,x,y):\n",
        "  #dx_w2: partial derivative of w2 for function f\n",
        "  y_hat=f(w1,w2,x)\n",
        "  gradient = 2*x*(y_hat-y)\n",
        "  return gradient"
      ],
      "execution_count": null,
      "outputs": []
    },
    {
      "cell_type": "code",
      "metadata": {
        "id": "CSyboOKWtRmc"
      },
      "source": [
        "def gradient_w1(w1,w2,xs,ys):\n",
        "  #gradient_w1:estimate mean gradient over all point for w1\n",
        "  #1/N*sum of derivative of w1\n",
        "  N=len(ys)\n",
        "  total=0\n",
        "  for x,y in zip(xs,ys):\n",
        "    total +=dx_w1(w1,w2,x,y)\n",
        "  gradient = total/N\n",
        "  return gradient\n",
        "\n",
        "def gradient_w2(w1,w2,xs,ys):\n",
        "  #gradient_w2:estimate mean gradient over all point for w2\n",
        "  N=len(ys)\n",
        "  total=0\n",
        "  for x,y in zip(xs,ys):\n",
        "    total +=dx_w2(w1,w2,x,y)\n",
        "  gradient = total/N\n",
        "  return gradient"
      ],
      "execution_count": null,
      "outputs": []
    },
    {
      "cell_type": "code",
      "metadata": {
        "id": "kTL7k3CnrfB_"
      },
      "source": [
        "def gradient_descent(xs,ys,learning_rate=0.01, max_num_iteration=1000):\n",
        "  #randomly initialize w1,w2\n",
        "  w1=np.random.uniform(0,1,1)\n",
        "  w2=np.random.uniform(0,1,1)\n",
        "  for i in range(max_num_iteration):\n",
        "    w1=w1-learning_rate*gradient_w1(w1,w2,xs,ys)\n",
        "    w2=w2-learning_rate*gradient_w2(w1,w2,xs,ys)\n",
        "    if i%100 ==0:\n",
        "      print(f\"w1={w1}\")\n",
        "      print(f\"w2={w2}\")\n",
        "  return (w1,w2)"
      ],
      "execution_count": null,
      "outputs": []
    },
    {
      "cell_type": "code",
      "metadata": {
        "colab": {
          "base_uri": "https://localhost:8080/"
        },
        "id": "kwF-Srx5qoRC",
        "outputId": "c97c602f-d14a-42b2-b452-5806c935eaa7"
      },
      "source": [
        "#here we have a simple line with intercept =0 and slope = 1\n",
        "xs=[1,2,3,4,5,6,7]\n",
        "ys=[1,2,3,4,5,6,7]\n",
        "#these datapoints are aligned with intercept=0 and slope=1\n",
        "(w1,w2)=gradient_descent(xs,ys)\n",
        "print(w1,w2)"
      ],
      "execution_count": null,
      "outputs": [
        {
          "output_type": "stream",
          "text": [
            "w1=[0.4690793]\n",
            "w2=[0.59591219]\n",
            "w1=[0.35846815]\n",
            "w2=[0.92788225]\n",
            "w1=[0.24238818]\n",
            "w2=[0.95123558]\n",
            "w1=[0.16389749]\n",
            "w2=[0.96702659]\n",
            "w1=[0.11082383]\n",
            "w2=[0.97770411]\n",
            "w1=[0.07493661]\n",
            "w2=[0.98492402]\n",
            "w1=[0.05067046]\n",
            "w2=[0.98980596]\n",
            "w1=[0.03426224]\n",
            "w2=[0.99310701]\n",
            "w1=[0.02316736]\n",
            "w2=[0.99533912]\n",
            "w1=[0.01566525]\n",
            "w2=[0.99684841]\n",
            "[0.01063403] [0.99786061]\n"
          ],
          "name": "stdout"
        }
      ]
    },
    {
      "cell_type": "code",
      "metadata": {
        "colab": {
          "base_uri": "https://localhost:8080/"
        },
        "id": "ghCJ-S7zrKSw",
        "outputId": "daada547-e5e8-46f4-f832-759ffec8506e"
      },
      "source": [
        "#here we have a simple line with intercept =0 and slope = 2\n",
        "xs=[1,2,3,4,5,6,7]\n",
        "ys=[2,4,6,8,10,12,14]\n",
        "#these datapoints are aligned with intercept=0 and slope=2\n",
        "(w1,w2)=gradient_descent(xs,ys)\n",
        "print(w1,w2)"
      ],
      "execution_count": null,
      "outputs": [
        {
          "output_type": "stream",
          "text": [
            "w1=[0.39870702]\n",
            "w2=[1.30901463]\n",
            "w1=[0.35101651]\n",
            "w2=[1.92938139]\n",
            "w1=[0.23734955]\n",
            "w2=[1.95224927]\n",
            "w1=[0.16049048]\n",
            "w2=[1.96771202]\n",
            "w1=[0.10852009]\n",
            "w2=[1.97816759]\n",
            "w1=[0.07337886]\n",
            "w2=[1.98523741]\n",
            "w1=[0.04961715]\n",
            "w2=[1.99001786]\n",
            "w1=[0.03355001]\n",
            "w2=[1.9932503]\n",
            "w1=[0.02268577]\n",
            "w2=[1.995436]\n",
            "w1=[0.01533961]\n",
            "w2=[1.99691393]\n",
            "[0.01041297] [1.99790509]\n"
          ],
          "name": "stdout"
        }
      ]
    },
    {
      "cell_type": "code",
      "metadata": {
        "colab": {
          "base_uri": "https://localhost:8080/"
        },
        "id": "Seo6smLLrUCj",
        "outputId": "b7ec7dc3-d2a6-4bf7-9d20-60af9f212a49"
      },
      "source": [
        "#here we have a simple line with intercept =1 and slope = 2\n",
        "xs=[1,2,3,4,5,6,7]\n",
        "ys=[3,5,7,9,11,13,15]\n",
        "#these datapoints are aligned with intercept=1 and slope=2\n",
        "(w1,w2)=gradient_descent(xs,ys)\n",
        "print(w1,w2)"
      ],
      "execution_count": null,
      "outputs": [
        {
          "output_type": "stream",
          "text": [
            "w1=[0.83198015]\n",
            "w2=[1.25068257]\n",
            "w1=[0.99078347]\n",
            "w2=[2.00185421]\n",
            "w1=[0.99376799]\n",
            "w2=[2.00125378]\n",
            "w1=[0.99578605]\n",
            "w2=[2.00084778]\n",
            "w1=[0.99715062]\n",
            "w2=[2.00057325]\n",
            "w1=[0.99807332]\n",
            "w2=[2.00038762]\n",
            "w1=[0.99869722]\n",
            "w2=[2.0002621]\n",
            "w1=[0.99911909]\n",
            "w2=[2.00017722]\n",
            "w1=[0.99940435]\n",
            "w2=[2.00011984]\n",
            "w1=[0.99959723]\n",
            "w2=[2.00008103]\n",
            "[0.99972659] [2.00005501]\n"
          ],
          "name": "stdout"
        }
      ]
    },
    {
      "cell_type": "code",
      "metadata": {
        "id": "-Y17aWodftEw"
      },
      "source": [
        "def gradient_z1(z1,z2,xs,ys):\n",
        "  #gradient_z1:estimate mean gradient over all point for z1\n",
        "  #1/N*sum of derivative of z1\n",
        "  N=len(ys)\n",
        "  total=0\n",
        "  for x,y in zip(xs,ys):\n",
        "    total +=dx_z1(z1,z2,x,y)\n",
        "  gradient = total/N\n",
        "  return gradient\n"
      ],
      "execution_count": null,
      "outputs": []
    },
    {
      "cell_type": "code",
      "metadata": {
        "id": "HFMSF3KZIhI_"
      },
      "source": [
        "def Nesterov_gradient_descent(xs,ys,learning_rate=0.01, max_num_iteration=1000):\n",
        "  #randomly initialize w1,w2\n",
        "  w1=np.random.uniform(0,1,1)\n",
        "  w2=np.random.uniform(0,1,1)\n",
        "  for i in range(max_num_iteration):\n",
        "    z1=w1+((i-1)/(i+2))*(w1[i]-w1[i-1])\n",
        "    z2=w2+((i-1)/(i+2))*(w2[i]-w2[i-1])\n",
        "    w1=z1[i-1]-learning_rate*gradient_z1[i-1](z1,z2,xs,ys)\n",
        "    w2=z2[i-1]-learning_rate*gradient_z2[i-1](z1,z2,xs,ys)\n",
        "    if i%100 ==0:\n",
        "      print(f\"w1={w1}\")\n",
        "      print(f\"w2={w2}\")\n",
        "  return (w1,w2)"
      ],
      "execution_count": null,
      "outputs": []
    },
    {
      "cell_type": "code",
      "metadata": {
        "colab": {
          "base_uri": "https://localhost:8080/"
        },
        "id": "iEXx-fdeIkAB",
        "outputId": "64c62ca8-b55f-428c-e1cd-4b0f07fb80b7"
      },
      "source": [
        "#here we have a simple line with intercept =0 and slope = 1\n",
        "xs=[1,2,3,4,5,6,7]\n",
        "ys=[1,2,3,4,5,6,7]\n",
        "#these datapoints are aligned with intercept=0 and slope=1\n",
        "(w1,w2)=gradient_descent(xs,ys)\n",
        "print(w1,w2)"
      ],
      "execution_count": null,
      "outputs": [
        {
          "output_type": "stream",
          "text": [
            "w1=[0.47692951]\n",
            "w2=[0.74252217]\n",
            "w1=[0.34402174]\n",
            "w2=[0.93078862]\n",
            "w1=[0.23261984]\n",
            "w2=[0.95320081]\n",
            "w1=[0.15729235]\n",
            "w2=[0.96835543]\n",
            "w1=[0.10635759]\n",
            "w2=[0.97860265]\n",
            "w1=[0.07191663]\n",
            "w2=[0.98553159]\n",
            "w1=[0.04862842]\n",
            "w2=[0.99021678]\n",
            "w1=[0.03288146]\n",
            "w2=[0.9933848]\n",
            "w1=[0.02223371]\n",
            "w2=[0.99552695]\n",
            "w1=[0.01503394]\n",
            "w2=[0.99697542]\n",
            "[0.01020547] [0.99794683]\n"
          ],
          "name": "stdout"
        }
      ]
    },
    {
      "cell_type": "code",
      "metadata": {
        "colab": {
          "base_uri": "https://localhost:8080/"
        },
        "id": "oAw5tVEvJV77",
        "outputId": "a7c088ff-c74f-410c-aa5c-2005ac076ded"
      },
      "source": [
        "#here we have a simple line with intercept =0 and slope = 2\n",
        "xs=[1,2,3,4,5,6,7]\n",
        "ys=[2,4,6,8,10,12,14]\n",
        "#these datapoints are aligned with intercept=0 and slope=2\n",
        "(w1,w2)=gradient_descent(xs,ys)\n",
        "print(w1,w2)"
      ],
      "execution_count": null,
      "outputs": [
        {
          "output_type": "stream",
          "text": [
            "w1=[0.52007283]\n",
            "w2=[1.35784897]\n",
            "w1=[0.42331654]\n",
            "w2=[1.91483584]\n",
            "w1=[0.28623722]\n",
            "w2=[1.94241389]\n",
            "w1=[0.19354723]\n",
            "w2=[1.96106156]\n",
            "w1=[0.13087233]\n",
            "w2=[1.97367069]\n",
            "w1=[0.08849295]\n",
            "w2=[1.98219671]\n",
            "w1=[0.05983696]\n",
            "w2=[1.98796181]\n",
            "w1=[0.04046042]\n",
            "w2=[1.99186004]\n",
            "w1=[0.02735844]\n",
            "w2=[1.99449594]\n",
            "w1=[0.01849916]\n",
            "w2=[1.99627828]\n",
            "[0.01255777] [1.99747359]\n"
          ],
          "name": "stdout"
        }
      ]
    },
    {
      "cell_type": "code",
      "metadata": {
        "colab": {
          "base_uri": "https://localhost:8080/"
        },
        "id": "qllqdLmOJda0",
        "outputId": "50da5222-f780-4097-89f6-085ea11e3240"
      },
      "source": [
        "#here we have a simple line with intercept =1 and slope = 2\n",
        "xs=[1,2,3,4,5,6,7]\n",
        "ys=[3,5,7,9,11,13,15]\n",
        "#these datapoints are aligned with intercept=1 and slope=2\n",
        "(w1,w2)=gradient_descent(xs,ys)\n",
        "print(w1,w2)"
      ],
      "execution_count": null,
      "outputs": [
        {
          "output_type": "stream",
          "text": [
            "w1=[0.90230001]\n",
            "w2=[1.09795973]\n",
            "w1=[1.05680519]\n",
            "w2=[1.98857175]\n",
            "w1=[1.03841041]\n",
            "w2=[1.99227247]\n",
            "w1=[1.02597226]\n",
            "w2=[1.99477482]\n",
            "w1=[1.01756186]\n",
            "w2=[1.99646685]\n",
            "w1=[1.01187494]\n",
            "w2=[1.99761096]\n",
            "w1=[1.00802957]\n",
            "w2=[1.99838459]\n",
            "w1=[1.00542942]\n",
            "w2=[1.99890769]\n",
            "w1=[1.00367125]\n",
            "w2=[1.99926141]\n",
            "w1=[1.00248242]\n",
            "w2=[1.99950058]\n",
            "[1.00168514] [1.99966098]\n"
          ],
          "name": "stdout"
        }
      ]
    },
    {
      "cell_type": "code",
      "metadata": {
        "id": "X0M6e_2CJgi-"
      },
      "source": [
        ""
      ],
      "execution_count": null,
      "outputs": []
    }
  ]
}
