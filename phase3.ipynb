{
  "nbformat": 4,
  "nbformat_minor": 0,
  "metadata": {
    "colab": {
      "name": "“phase3.ipynb”的副本",
      "provenance": [],
      "collapsed_sections": [],
      "authorship_tag": "ABX9TyORBxCSjGIAzCBoF6Gx95NW",
      "include_colab_link": true
    },
    "kernelspec": {
      "name": "python3",
      "display_name": "Python 3"
    },
    "language_info": {
      "name": "python"
    }
  },
  "cells": [
    {
      "cell_type": "markdown",
      "metadata": {
        "id": "view-in-github",
        "colab_type": "text"
      },
      "source": [
        "<a href=\"https://colab.research.google.com/github/Bertha-ding/independent-study/blob/main/phase3.ipynb\" target=\"_parent\"><img src=\"https://colab.research.google.com/assets/colab-badge.svg\" alt=\"Open In Colab\"/></a>"
      ]
    },
    {
      "cell_type": "code",
      "metadata": {
        "id": "o6JfcBIdkOUR"
      },
      "source": [
        "import matplotlib.pyplot as plt\n",
        "import numpy as np\n",
        "import scipy.optimize as so\n",
        "import scipy.stats as ss\n",
        "\n",
        "'''=========\n",
        "option class init\n",
        "=========='''\n",
        "class VanillaOption:\n",
        "    def __init__(\n",
        "        self,\n",
        "        otype = 1, # 1: 'call'\n",
        "                  # -1: 'put'\n",
        "        strike = 110.,\n",
        "        maturity = 1.,\n",
        "        market_price = 10.):\n",
        "      self.otype = otype\n",
        "      self.strike = strike\n",
        "      self.maturity = maturity\n",
        "      self.market_price = market_price #this will be used for calibration\n",
        "      \n",
        "        \n",
        "    def payoff(self, s): #s: excercise price\n",
        "      otype = self.otype\n",
        "      k = self.strike\n",
        "      maturity = self.maturity\n",
        "      return max([0, (s - k)*otype])\n",
        "'''============\n",
        "Gbm class\n",
        "============='''\n",
        "\n",
        "class Gbm:\n",
        "    def __init__(self,\n",
        "                 init_state = 100.,\n",
        "                 drift_ratio = .0475,\n",
        "                 vol_ratio = .2\n",
        "                ):\n",
        "        self.init_state = init_state\n",
        "        self.drift_ratio = drift_ratio\n",
        "        self.vol_ratio = vol_ratio\n",
        "\n",
        "'''========\n",
        "Black-Scholes-Merton formula. \n",
        "=========='''\n",
        "\n",
        "def bsm_price(self, vanilla_option):\n",
        "    s0 = self.init_state\n",
        "    sigma = self.vol_ratio\n",
        "    r = self.drift_ratio\n",
        "    \n",
        "    otype = vanilla_option.otype\n",
        "    k = vanilla_option.strike\n",
        "    maturity = vanilla_option.maturity\n",
        "    \n",
        "    d1 = (np.log(s0 / k) + (r + 0.5 * sigma ** 2) \n",
        "          * maturity) / (sigma * np.sqrt(maturity))\n",
        "    d2 = d1 - sigma * np.sqrt(maturity)\n",
        "    \n",
        "    return (otype * s0 * ss.norm.cdf(otype * d1) #line break needs parenthesis\n",
        "            - otype * np.exp(-r * maturity) * k * ss.norm.cdf(otype * d2))\n",
        "\n",
        "Gbm.bsm_price = bsm_price\n"
      ],
      "execution_count": 3,
      "outputs": []
    },
    {
      "cell_type": "code",
      "metadata": {
        "id": "TM9_TL5zp1y2",
        "colab": {
          "base_uri": "https://localhost:8080/"
        },
        "outputId": "71ce1c82-8221-4771-e10f-da6a30f1f5e4"
      },
      "source": [
        "%cd~\n",
        "\n",
        "!git clone https://github.com/Bertha-ding/20MA573-yuning-ding.git \n",
        "pass\n",
        "\n",
        "%cd 20MA573-yuning-ding/src/\n",
        "%ls"
      ],
      "execution_count": 4,
      "outputs": [
        {
          "output_type": "stream",
          "text": [
            "/root\n",
            "Cloning into '20MA573-yuning-ding'...\n",
            "remote: Enumerating objects: 339, done.\u001b[K\n",
            "remote: Counting objects: 100% (12/12), done.\u001b[K\n",
            "remote: Compressing objects: 100% (12/12), done.\u001b[K\n",
            "remote: Total 339 (delta 5), reused 0 (delta 0), pack-reused 327\u001b[K\n",
            "Receiving objects: 100% (339/339), 25.74 MiB | 15.83 MiB/s, done.\n",
            "Resolving deltas: 100% (183/183), done.\n",
            "/root/20MA573-yuning-ding/src\n",
            "20optiondata2.dat  hw1_random_walk.ipynb  prj02.ipynb  Untitled0.ipynb\n",
            "bsm.py             prj01.ipynb            prj03.ipynb\n"
          ],
          "name": "stdout"
        }
      ]
    },
    {
      "cell_type": "code",
      "metadata": {
        "id": "X4DgvOFnp2ia",
        "colab": {
          "base_uri": "https://localhost:8080/"
        },
        "outputId": "d8e2989e-be33-4f9b-fe09-7bb3bd2e8d66"
      },
      "source": [
        "from bsm import *\n",
        "import scipy.optimize as so\n",
        "import numpy as np\n",
        "import scipy.stats as ss\n",
        "\n",
        "#Read four-column data\n",
        "#columns are otype, maturity, strike, option_price\n",
        "np_option_data1 = np.loadtxt('20optiondata2.dat', comments='#', delimiter=',')\n",
        "\n",
        "print('>>>otype,>>>>>>> maturity, >>strike, >>>>>>option_price')\n",
        "print(np_option_data1)"
      ],
      "execution_count": 5,
      "outputs": [
        {
          "output_type": "stream",
          "text": [
            ">>>otype,>>>>>>> maturity, >>strike, >>>>>>option_price\n",
            "[[  1.           0.16666667  97.           5.32705461]\n",
            " [  1.           0.16666667  99.           3.86224255]\n",
            " [  1.           0.16666667 101.           2.7204371 ]\n",
            " [  1.           0.16666667 103.           2.1202793 ]\n",
            " [  1.           0.41666667  97.           7.23756307]\n",
            " [  1.           0.41666667  99.           5.95053461]\n",
            " [  1.           0.41666667 101.           5.2640122 ]\n",
            " [  1.           0.41666667 103.           4.97493422]]\n"
          ],
          "name": "stdout"
        }
      ]
    },
    {
      "cell_type": "code",
      "metadata": {
        "id": "6GSgl2Wop6_x"
      },
      "source": [
        "gbm1 = Gbm(\n",
        "    init_state = 100., \n",
        "    drift_ratio = .04,\n",
        "    vol_ratio = .2)"
      ],
      "execution_count": 6,
      "outputs": []
    },
    {
      "cell_type": "code",
      "metadata": {
        "id": "yXQd9qkKp-SW"
      },
      "source": [
        "'''================\n",
        "define an error function\n",
        "===================='''\n",
        "def error_function(vol, gbm, option_list):\n",
        "  gbm.vol_ratio = vol\n",
        "  err = 0\n",
        "  for i in range(len(option_list)):\n",
        "    err = (err + abs((option_list[i]).market_price - gbm.bsm_price(option_list[i]))**2)/len(option_list)   \n",
        "  return err\n",
        "\n",
        "  \n"
      ],
      "execution_count": 7,
      "outputs": []
    },
    {
      "cell_type": "code",
      "metadata": {
        "id": "3qdGj9HITtEo"
      },
      "source": [
        "def dx1(vol, gbm, option_list):\n",
        "  gbm.vol_ratio = vol\n",
        "  for i in range(len(option_list)):\n",
        "    gradient= 2*abs((option_list[i]).market_price - gbm.bsm_price(option_list[i]))/len(option_list)  \n",
        "  return gradient\n",
        "\n",
        "def gradient1(vol, gbm, option_list):\n",
        "  #gradient_w1:estimate mean gradient over all point for w1\n",
        "  #1/N*sum of derivative of w1\n",
        "  N=len(option_list)\n",
        "  total=0\n",
        "  for i in range(len(option_list)):\n",
        "    total +=dx1(vol, gbm, option_list)\n",
        "  gradient = total/N\n",
        "  return gradient\n"
      ],
      "execution_count": 30,
      "outputs": []
    },
    {
      "cell_type": "code",
      "metadata": {
        "id": "pj02i4PkXY1w"
      },
      "source": [
        "def dx2(vol, gbm, option_list):\n",
        "  gbm.vol_ratio = vol\n",
        "  for i in range(len(option_list)):\n",
        "    gradient= -2*abs((option_list[i]).market_price - gbm.bsm_price(option_list[i]))/len(option_list)  \n",
        "  return gradient\n",
        "\n",
        "def gradient2(vol, gbm, option_list):\n",
        "  #gradient_w1:estimate mean gradient over all point for w1\n",
        "  #1/N*sum of derivative of w1\n",
        "  N=len(option_list)\n",
        "  total=0\n",
        "  for i in range(len(option_list)):\n",
        "    total +=dx2(vol, gbm, option_list)\n",
        "  gradient = total/N\n",
        "  return gradient"
      ],
      "execution_count": 31,
      "outputs": []
    },
    {
      "cell_type": "code",
      "metadata": {
        "id": "SsjEdYRYSWao"
      },
      "source": [
        "def gradient(vol,gbm,option_list,i):\n",
        "  if i == 1:\n",
        "    gradient= gradient1(vol, gbm, option_list)\n",
        "  else:\n",
        "    gradient = gradient2(vol, gbm, option_list)\n",
        "  return gradient\n",
        "  \n",
        "from scipy.stats import bernoulli\n",
        "def sgd(vol,gbm,option_list,alpha,steps,precision):\n",
        "  vol_new = 0.1\n",
        "  vol_old=0\n",
        "  vol_list=[vol_new]\n",
        "  while abs(vol_new - vol_old) > precision:\n",
        "      j= bernoulli.rvs(0.5)\n",
        "      grad = gradient(vol,gbm,option_list,j)\n",
        "      vol_old = vol_new\n",
        "      vol_new=vol_old-alpha*grad\n",
        "      vol_list.append(vol_new)\n",
        "  print(\"Local minimum occurs at:\", vol_new)\n",
        "  print(\"Number of steps:\", len(vol_list))"
      ],
      "execution_count": 81,
      "outputs": []
    },
    {
      "cell_type": "code",
      "metadata": {
        "id": "RLz39arQbo-H"
      },
      "source": [
        "def implied_volatility(gbm, option_list):\n",
        "  init_vol = .1 #initial guess\n",
        "  return sgd(init_vol,gbm,option_list,alpha=0.001,steps=1000,precision=0.001)"
      ],
      "execution_count": 82,
      "outputs": []
    },
    {
      "cell_type": "code",
      "metadata": {
        "id": "htxsdkIsYc09"
      },
      "source": [
        "filter1 = np_option_data1[np_option_data1[:,1] == 2/12]\n",
        "num_row = filter1.shape[0]\n",
        "option_list = []\n",
        "\n",
        "for i in range(num_row):\n",
        "  option1 = VanillaOption(\n",
        "      otype = filter1[i,0],\n",
        "      strike = filter1[i,2],\n",
        "      maturity = filter1[i,1],\n",
        "      market_price = filter1[i,3]\n",
        "  )   \n",
        "  option_list.append(option1)"
      ],
      "execution_count": 83,
      "outputs": []
    },
    {
      "cell_type": "code",
      "metadata": {
        "colab": {
          "base_uri": "https://localhost:8080/"
        },
        "id": "nCHlNsoYeFMW",
        "outputId": "ceddd8a4-27ac-4afd-faea-3817e321b916"
      },
      "source": [
        "implied_volatility(gbm1, option_list)"
      ],
      "execution_count": 92,
      "outputs": [
        {
          "output_type": "stream",
          "text": [
            "Local minimum occurs at: 0.10068914963488519\n",
            "Number of steps: 2\n"
          ],
          "name": "stdout"
        }
      ]
    },
    {
      "cell_type": "code",
      "metadata": {
        "id": "eF0htDtMoYsr"
      },
      "source": [
        ""
      ],
      "execution_count": null,
      "outputs": []
    }
  ]
}